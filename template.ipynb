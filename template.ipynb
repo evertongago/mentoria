{
 "cells": [
  {
   "cell_type": "markdown",
   "id": "d8cbe665",
   "metadata": {},
   "source": [
    "# Mentoria Técnica - Template"
   ]
  },
  {
   "cell_type": "markdown",
   "id": "ac102de9",
   "metadata": {},
   "source": [
    "<div style=\"text-align:justify\">\n",
    "Este notebook apresenta um template que vai ajudar a organizar as etapas iniciais do nosso primeiro projeto de ciência de dados. Como visto anterioremente, precisamos estruturar nosso trabalho com base no método científico, aumentando nosso entendimento sobre o <b>Objetivo</b>, a <b>Metodologia</b> de trabalho e <b>Resultados Esperados</b>.\n",
    "</div>\n",
    "<br>\n",
    "Para facilitar estas definições, vamos utilizar <i>Test Case Canvas</i>."
   ]
  },
  {
   "cell_type": "markdown",
   "id": "c6e45c94",
   "metadata": {},
   "source": [
    "<table style=\"border-collapse: collapse; width: 100%; height: 283px;\" border=\"1\">\n",
    "    <tr style=\"height: 61px;\">\n",
    "        <td style=\"width: 100%; text-align: left; height: 61px;\">\n",
    "            <h2 style=\"text-align: center;\"><strong>Test Case Canvas</strong></h2>\n",
    "        </td>\n",
    "    </tr>\n",
    "    <tr style=\"height: 24px;\">\n",
    "        <td style=\"width: 100%; height: 24px; text-align: left;\"><strong>Nós acreditamos que:</strong>:</td>\n",
    "    </tr>\n",
    "    <tr style=\"height: 75px;\">\n",
    "        <td style=\"width: 100%; height: 75px; text-align: left;\">\n",
    "            Em um caso de fatalidade (embarcação afunda), é possível prever com antecedência quem serão os sobreviventes.\n",
    "        </td>\n",
    "    </tr>\n",
    "    <tr style=\"height: 24px;\">\n",
    "        <td style=\"width: 100%; height: 24px; text-align: left;\"><strong>Para verificar isso, vamos</strong>:</td>\n",
    "    </tr>\n",
    "    <tr style=\"height: 75px;\">\n",
    "        <td style=\"width: 100%; height: 75px; text-align: left;\">\n",
    "            Uma análise exploratória de dados, verificando:<br><br>\n",
    "            <ul>\n",
    "                <li>Analisar a correlação entre: Sobreviventes e (Sexo, Idade, sibsp, parch, cabin)</li>\n",
    "                <li>Vamos usar BoxPlot para Continua vs Categórica</li>\n",
    "                <li>Vamos usar ChiSquareContingency Categórica vs Categórica</li>\n",
    "                <li>Eventualmente, uma cabine pode ter uma única pessoa. Nesse caso, é melhor analisar uma distribuição de alocação das cabines. Para isso, vamos utilizar um histograma.</li>\n",
    "                <li>Caso a distribuição de alocação das cabines indique que a maior parte das cabines tem mais de uma pessoa, podemos fazer um teste de correlação Contínua vs Categórica (numero de sobreviventes por cabine).</li>\n",
    "            </ul>\n",
    "        </td>\n",
    "    </tr>\n",
    "    <tr style=\"height: 24px;\">\n",
    "        <td style=\"width: 100%; height: 24px; text-align: left;\"><strong>E vamos medir *</strong>:</td>\n",
    "    </tr>\n",
    "    <tr style=\"height: 75px;\">\n",
    "        <td style=\"width: 100%; height: 75px; text-align: left;\">\n",
    "            Não se aplica.\n",
    "        </td>\n",
    "    </tr>\n",
    "    <tr style=\"height: 24px;\">\n",
    "        <td style=\"width: 100%; height: 24px; text-align: left;\"><strong>Estaremos certos, se</strong>:</td>\n",
    "    </tr>\n",
    "    <tr style=\"height: 75px;\">\n",
    "        <td style=\"width: 100%; height: 75px; text-align: left;\">\n",
    "            Estaremos certos se as correlações entre a sobrevivência e as demais variáveis, forem fortes o suficiente para criar um modelo estatístico (ou de machine learning) capaz de predizer os sobreviventes.\n",
    "        </td>\n",
    "    </tr>\n",
    "</table>"
   ]
  },
  {
   "cell_type": "markdown",
   "id": "e87b14c7",
   "metadata": {},
   "source": [
    "## Próximos Passos"
   ]
  },
  {
   "cell_type": "markdown",
   "id": "b22fe417",
   "metadata": {},
   "source": [
    "<div style=\"text-align:justify\">\n",
    "Temos em mãos um <code>dataset</code> que descreve os passageiros do Titanic e algumas de suas características, tais como classe de embarque, gênero, idade, tarifa paga, entre outros. Também temos uma coluna que indica se o passageiro sobreviveu ao naufrágio.\n",
    "</div>\n",
    "<br>\n",
    "Veja um exemplo dos dados:"
   ]
  },
  {
   "cell_type": "code",
   "execution_count": 44,
   "id": "9acbf805",
   "metadata": {},
   "outputs": [
    {
     "data": {
      "text/html": [
       "<div>\n",
       "<style scoped>\n",
       "    .dataframe tbody tr th:only-of-type {\n",
       "        vertical-align: middle;\n",
       "    }\n",
       "\n",
       "    .dataframe tbody tr th {\n",
       "        vertical-align: top;\n",
       "    }\n",
       "\n",
       "    .dataframe thead th {\n",
       "        text-align: right;\n",
       "    }\n",
       "</style>\n",
       "<table border=\"1\" class=\"dataframe\">\n",
       "  <thead>\n",
       "    <tr style=\"text-align: right;\">\n",
       "      <th></th>\n",
       "      <th>PassengerId</th>\n",
       "      <th>Survived</th>\n",
       "      <th>Pclass</th>\n",
       "      <th>Name</th>\n",
       "      <th>Sex</th>\n",
       "      <th>Age</th>\n",
       "      <th>SibSp</th>\n",
       "      <th>Parch</th>\n",
       "      <th>Ticket</th>\n",
       "      <th>Fare</th>\n",
       "      <th>Cabin</th>\n",
       "      <th>Embarked</th>\n",
       "    </tr>\n",
       "  </thead>\n",
       "  <tbody>\n",
       "    <tr>\n",
       "      <th>0</th>\n",
       "      <td>1</td>\n",
       "      <td>0</td>\n",
       "      <td>3</td>\n",
       "      <td>Braund, Mr. Owen Harris</td>\n",
       "      <td>male</td>\n",
       "      <td>22.0</td>\n",
       "      <td>1</td>\n",
       "      <td>0</td>\n",
       "      <td>A/5 21171</td>\n",
       "      <td>7.2500</td>\n",
       "      <td>NaN</td>\n",
       "      <td>S</td>\n",
       "    </tr>\n",
       "    <tr>\n",
       "      <th>1</th>\n",
       "      <td>2</td>\n",
       "      <td>1</td>\n",
       "      <td>1</td>\n",
       "      <td>Cumings, Mrs. John Bradley (Florence Briggs Th...</td>\n",
       "      <td>female</td>\n",
       "      <td>38.0</td>\n",
       "      <td>1</td>\n",
       "      <td>0</td>\n",
       "      <td>PC 17599</td>\n",
       "      <td>71.2833</td>\n",
       "      <td>C85</td>\n",
       "      <td>C</td>\n",
       "    </tr>\n",
       "    <tr>\n",
       "      <th>2</th>\n",
       "      <td>3</td>\n",
       "      <td>1</td>\n",
       "      <td>3</td>\n",
       "      <td>Heikkinen, Miss. Laina</td>\n",
       "      <td>female</td>\n",
       "      <td>26.0</td>\n",
       "      <td>0</td>\n",
       "      <td>0</td>\n",
       "      <td>STON/O2. 3101282</td>\n",
       "      <td>7.9250</td>\n",
       "      <td>NaN</td>\n",
       "      <td>S</td>\n",
       "    </tr>\n",
       "    <tr>\n",
       "      <th>3</th>\n",
       "      <td>4</td>\n",
       "      <td>1</td>\n",
       "      <td>1</td>\n",
       "      <td>Futrelle, Mrs. Jacques Heath (Lily May Peel)</td>\n",
       "      <td>female</td>\n",
       "      <td>35.0</td>\n",
       "      <td>1</td>\n",
       "      <td>0</td>\n",
       "      <td>113803</td>\n",
       "      <td>53.1000</td>\n",
       "      <td>C123</td>\n",
       "      <td>S</td>\n",
       "    </tr>\n",
       "    <tr>\n",
       "      <th>4</th>\n",
       "      <td>5</td>\n",
       "      <td>0</td>\n",
       "      <td>3</td>\n",
       "      <td>Allen, Mr. William Henry</td>\n",
       "      <td>male</td>\n",
       "      <td>35.0</td>\n",
       "      <td>0</td>\n",
       "      <td>0</td>\n",
       "      <td>373450</td>\n",
       "      <td>8.0500</td>\n",
       "      <td>NaN</td>\n",
       "      <td>S</td>\n",
       "    </tr>\n",
       "  </tbody>\n",
       "</table>\n",
       "</div>"
      ],
      "text/plain": [
       "   PassengerId  Survived  Pclass  \\\n",
       "0            1         0       3   \n",
       "1            2         1       1   \n",
       "2            3         1       3   \n",
       "3            4         1       1   \n",
       "4            5         0       3   \n",
       "\n",
       "                                                Name     Sex   Age  SibSp  \\\n",
       "0                            Braund, Mr. Owen Harris    male  22.0      1   \n",
       "1  Cumings, Mrs. John Bradley (Florence Briggs Th...  female  38.0      1   \n",
       "2                             Heikkinen, Miss. Laina  female  26.0      0   \n",
       "3       Futrelle, Mrs. Jacques Heath (Lily May Peel)  female  35.0      1   \n",
       "4                           Allen, Mr. William Henry    male  35.0      0   \n",
       "\n",
       "   Parch            Ticket     Fare Cabin Embarked  \n",
       "0      0         A/5 21171   7.2500   NaN        S  \n",
       "1      0          PC 17599  71.2833   C85        C  \n",
       "2      0  STON/O2. 3101282   7.9250   NaN        S  \n",
       "3      0            113803  53.1000  C123        S  \n",
       "4      0            373450   8.0500   NaN        S  "
      ]
     },
     "execution_count": 44,
     "metadata": {},
     "output_type": "execute_result"
    }
   ],
   "source": [
    "import pandas, numpy\n",
    "from matplotlib import pyplot\n",
    "\n",
    "pyplot.rcParams['figure.figsize'] = (15, 7)\n",
    "\n",
    "df = pandas.read_csv('train.csv')\n",
    "df.head()"
   ]
  },
  {
   "cell_type": "markdown",
   "id": "1d79b353",
   "metadata": {},
   "source": [
    "Mais detalhes sobre o dataset podem ser encontrados aqui https://www.kaggle.com/c/titanic/data."
   ]
  },
  {
   "cell_type": "markdown",
   "id": "f374af1f",
   "metadata": {},
   "source": [
    "Suas tarefas são:\n",
    "\n",
    "1. Realize uma análise exploratória que te ajude (ou responda) a hipótese levantada no Test Case. Use a metodologia proposta no Test Case.\n",
    "2. Faça a aferição (medições) conforme proposto no cartão de experimento.\n",
    "3. Apresente os resultados obtidos pelo experimento e confronte esses resultados com os resultados esperados."
   ]
  },
  {
   "cell_type": "markdown",
   "id": "39ddcb19",
   "metadata": {},
   "source": [
    "<div>\n",
    "Utilize a biblioteca <code>pandas</code> para realizar a análise exploratória e as bibliotecas <code>matplotlib</code> ou <code>seaborn</code> para exibição gráfica.\n",
    "</div>"
   ]
  },
  {
   "cell_type": "markdown",
   "id": "27a93b6f",
   "metadata": {},
   "source": [
    "## Estudo - Titanic"
   ]
  },
  {
   "cell_type": "markdown",
   "id": "9d813ac6",
   "metadata": {},
   "source": [
    "[Tutorial BoxPlot](https://pandas.pydata.org/docs/reference/api/pandas.DataFrame.boxplot.html)"
   ]
  },
  {
   "cell_type": "code",
   "execution_count": 47,
   "id": "dd261d51",
   "metadata": {},
   "outputs": [
    {
     "data": {
      "text/plain": [
       "array([<AxesSubplot:title={'center':'Age'}, xlabel='[Survived]'>,\n",
       "       <AxesSubplot:title={'center':'Fare'}, xlabel='[Survived]'>],\n",
       "      dtype=object)"
      ]
     },
     "execution_count": 47,
     "metadata": {},
     "output_type": "execute_result"
    },
    {
     "data": {
      "image/png": "[encoded data removed]",
      "text/plain": [
       "<Figure size 1080x504 with 2 Axes>"
      ]
     },
     "metadata": {
      "needs_background": "light"
     },
     "output_type": "display_data"
    }
   ],
   "source": [
    "df[['Age', 'Fare','Survived']].boxplot(column=['Age','Fare'], by=['Survived'])"
   ]
  },
  {
   "cell_type": "markdown",
   "id": "7ecc9d7a",
   "metadata": {},
   "source": [
    "## Conclusões"
   ]
  },
  {
   "cell_type": "markdown",
   "id": "b441de63",
   "metadata": {},
   "source": [
    "- Existem características determinantes para um passageiro ter sobrevivido? Quais são elas?\n",
    "- Você comparou diferentes algoritmos de classificação? Quais foram os resultados?\n",
    "- Como você avaliou o resultado do seu modelo de classificação?\n",
    "- O que você achou das curvas <code>Precision</code> e <code>Recall</code> obtidas?"
   ]
  }
 ],
 "metadata": {
  "kernelspec": {
   "display_name": "Python 3 (ipykernel)",
   "language": "python",
   "name": "python3"
  },
  "language_info": {
   "codemirror_mode": {
    "name": "ipython",
    "version": 3
   },
   "file_extension": ".py",
   "mimetype": "text/x-python",
   "name": "python",
   "nbconvert_exporter": "python",
   "pygments_lexer": "ipython3",
   "version": "3.8.12"
  }
 },
 "nbformat": 4,
 "nbformat_minor": 5
}
