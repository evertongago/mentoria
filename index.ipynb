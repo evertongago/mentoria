{
 "cells": [
  {
   "cell_type": "markdown",
   "metadata": {},
   "source": [
    "# Mentoria - Desenvolvimento Técnico"
   ]
  },
  {
   "cell_type": "markdown",
   "metadata": {},
   "source": [
    "<div style=\"text-align:justify\">\n",
    "Este notebook apresenta uma série de conceitos, cujo objetivo é desenvolver os fundamentos científicos básicos e aplicá-los a uma Análise Exploratória de Dados (EDA). Durante esse trabalho, vamos desenvolver as seguintes habilidades:\n",
    "</div>"
   ]
  },
  {
   "cell_type": "markdown",
   "metadata": {},
   "source": [
    "- Princípios da análise de dados\n",
    "- Estruturação pelo método científico\n",
    "  - Objetivo\n",
    "  - Metodologia\n",
    "  - Resultados Esperados\n",
    "- Ferramentas básicas para análise de dados\n",
    "- Machine Learning e problemas de classificação\n",
    "- Experimento Prático - Titanic"
   ]
  },
  {
   "cell_type": "markdown",
   "metadata": {},
   "source": [
    "## Princípios da Análise"
   ]
  },
  {
   "cell_type": "markdown",
   "metadata": {},
   "source": [
    "<div style=\"text-align:justify\">\n",
    "Aqui vamos apresentar os princípios da análise de dados e compreender os elementos básicos que permitirão estabelecer um pensamento analítico sobre um determinado problema. Estude os artigos apresentados aqui:\n",
    "</div>"
   ]
  },
  {
   "cell_type": "markdown",
   "metadata": {},
   "source": [
    "- [Princípios da análise de dados](https://www.fm2s.com.br/analise-de-dados-como-estruturar/)\n",
    "- [Ciclos PDSA / PDCA](https://www.fm2s.com.br/pdsa-ou-pdca/)\n",
    "- [Método CRISP-DM](https://paulovasconcellos.com.br/crisp-dm-semma-e-kdd-conhe%C3%A7a-as-melhores-t%C3%A9cnicas-para-explora%C3%A7%C3%A3o-de-dados-560d294547d2)"
   ]
  },
  {
   "cell_type": "markdown",
   "metadata": {},
   "source": [
    "## Estruturação"
   ]
  },
  {
   "cell_type": "markdown",
   "metadata": {},
   "source": [
    "<div style=\"text-align:justify\">\n",
    "Esta sessão descreve a estruturação de uma análise de dados, com base no método científico. Aqui nós vamos conectar os conceitos estudados na sessão de <b>Princípios da Análise</b>, através de uma abordagem prática. Veremos agora que uma análise de dados guiada pelo método científico deve ser dividida em três partes: <b>Objetivo</b>, <b>Metodologia</b> e <b>Resultados Esperados</b>.\n",
    "</div>"
   ]
  },
  {
   "cell_type": "markdown",
   "metadata": {},
   "source": [
    "#### Objetivo:"
   ]
  },
  {
   "cell_type": "markdown",
   "metadata": {},
   "source": [
    "<div style=\"text-align:justify\">\n",
    "Neste ponto devemos nos concentrar em <u>definir o foco da análise</u>, para isso podemos utilizar a 1º questão fundamental do Ciclo PDSA: <b>o que pretendemos realizar?</b> É muito importante que o objetivo da análise esteja claro, para que não perder o foco durante a execução do trabalho.\n",
    "</div>"
   ]
  },
  {
   "cell_type": "markdown",
   "metadata": {},
   "source": [
    "#### Metodologia:"
   ]
  },
  {
   "cell_type": "markdown",
   "metadata": {},
   "source": [
    "<div style=\"text-align:justify\">\n",
    "Aqui devemos nos concentrar em definir o método <i>(sequência de passos)</i> que nos levará ao nosso objetivo, para isso podemos utilizar a 3º questão fundamental do Ciclo PDSA: <b>O que podemos fazer para atingir esse objetivo?</b> Esses passos podem ser descritos na forma de hipóteses ou de perguntas, que posteriormente serão investigadas através da análise de dados. A metodologia pode compreender ainda a utilização de ferramentas de Machine Learning.\n",
    "</div>"
   ]
  },
  {
   "cell_type": "markdown",
   "metadata": {},
   "source": [
    "#### Resultados Esperados:"
   ]
  },
  {
   "cell_type": "markdown",
   "metadata": {},
   "source": [
    "<div style=\"text-align:justify\">\n",
    "Esse é o momento de se concentrar no método de avaliação e interpretação da análise de dados, para isso podemos utilizar a 2º questão fundamental do Ciclo PDSA: <b>Como saberemos que atingimos esse objetivo?</b> Esta talvez seja a etapa mais complexa da estruturação da análise, pois precisamos encontrar um conjunto de <u>ferramentas que nos permitam responder as hipóteses / perguntas</u> definidas na etapa de <b>Metodologia</b>.\n",
    "</div>"
   ]
  },
  {
   "cell_type": "markdown",
   "metadata": {},
   "source": [
    "## Ferramentas Básicas"
   ]
  },
  {
   "cell_type": "markdown",
   "metadata": {},
   "source": [
    "<div style=\"text-align:justify\">\n",
    "Aqui vamos apresentar algumas ferramentas básicas para análise de dados, que devem auxiliar a validação das hipóteses negócio que foram levantadas na estruturação da análise.\n",
    "</div>"
   ]
  },
  {
   "cell_type": "markdown",
   "metadata": {},
   "source": [
    "- [Matriz de Correlação](https://datatofish.com/correlation-matrix-pandas/)\n",
    "- [Gráfico de tendência](https://www.fm2s.com.br/grafico-de-tendencia/)\n",
    "- [Gráfico de dispersão](https://www.fm2s.com.br/grafico-de-dispersao/)\n",
    "- [Gráfico de barras](https://pandas.pydata.org/docs/reference/api/pandas.DataFrame.plot.bar.html)\n",
    "- [Histograma](https://www.fm2s.com.br/histograma/)\n",
    "- [Box-Plot](https://www.fm2s.com.br/como-elaborar-um-box-plot/)\n",
    "\n"
   ]
  },
  {
   "cell_type": "markdown",
   "metadata": {},
   "source": [
    "## Classificação"
   ]
  },
  {
   "cell_type": "markdown",
   "metadata": {},
   "source": [
    "<div style=\"text-align:justify\">\n",
    "Esta sessão vai introduzir conceitos básicos de Machine Learning, aplicados aos problemas de Classificação. Classificação consiste em entender o modelo <i>(a lógica, o padrão)</i> que dá origem a um conjunto de dados para prever ou classificar novos valores. Por exemplo: Diferenciar e-mails de spam, classificar animais em fotos, classificar transações como fraudes, entre outros.\n",
    "</div>\n",
    "\n",
    "A seguir, alguns artigos relacionados:"
   ]
  },
  {
   "cell_type": "markdown",
   "metadata": {},
   "source": [
    "- [Conceitos básicos](https://www.alura.com.br/conteudo/introducao-a-machine-learning-com-classificacao)\n",
    "- [Exemplo prático 1](https://medium.com/ciencia-descomplicada/machine-learning-classificando-gatos-e-cachorros-d45f1fddbff)\n",
    "- [Exemplo prático 2](https://www.digitalocean.com/community/tutorials/como-construir-um-classificador-de-machine-learning-em-python-com-scikit-learn-pt)"
   ]
  },
  {
   "cell_type": "markdown",
   "metadata": {},
   "source": [
    "<div style=\"text-align:justify\">\n",
    "Para ter melhor compreensão dos exemplos mencionados, é recomendável que você coloque em prática o que viu até aqui. Vamos fazer isso a partir de um experimento prático descrito abaixo.\n",
    "</div>"
   ]
  },
  {
   "cell_type": "markdown",
   "metadata": {},
   "source": [
    "## Experimento Prático"
   ]
  },
  {
   "cell_type": "markdown",
   "metadata": {},
   "source": [
    "<div style=\"text-align:justify\">\n",
    "Esta sessão descreve um experimento prático, que permitirá exercitar os conceitos vistos acima. Para facilitar a execução do experimento, criei uma imagem <code>Docker</code> com as dependências necessárias para todas as fases do trabalho.\n",
    "</div>"
   ]
  },
  {
   "cell_type": "markdown",
   "metadata": {},
   "source": [
    "#### Ambiente de Desenvolvimento"
   ]
  },
  {
   "cell_type": "markdown",
   "metadata": {},
   "source": [
    "Para preparar seu ambiente de desenvolvimento, execute os passos a seguir:\n",
    "<br><br>\n",
    "- No console, digite o comando: `git clone https://github.com/evertongago/environment.git`\n",
    "- Entre no diretório environment: `cd environment`\n",
    "- Crie uma imagem do ambiente: `bash docker.sh image`\n",
    "- Execute a imagem do ambiente: `bash docker.sh run`\n",
    "- Acesse o Jupyter Notebook em um navegador: `http://localhost:8085/`"
   ]
  },
  {
   "cell_type": "markdown",
   "metadata": {},
   "source": [
    "## Template"
   ]
  },
  {
   "cell_type": "markdown",
   "metadata": {},
   "source": [
    "<a href=\"template.ipynb\">Aqui</a> você encontra um template que vai guiar a realização do experimento prático."
   ]
  }
 ],
 "metadata": {
  "kernelspec": {
   "display_name": "Python 3 (ipykernel)",
   "language": "python",
   "name": "python3"
  },
  "language_info": {
   "codemirror_mode": {
    "name": "ipython",
    "version": 3
   },
   "file_extension": ".py",
   "mimetype": "text/x-python",
   "name": "python",
   "nbconvert_exporter": "python",
   "pygments_lexer": "ipython3",
   "version": "3.8.12"
  }
 },
 "nbformat": 4,
 "nbformat_minor": 4
}
